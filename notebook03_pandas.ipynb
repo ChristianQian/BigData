{
 "cells": [
  {
   "cell_type": "markdown",
   "metadata": {
    "slideshow": {
     "slide_type": "slide"
    }
   },
   "source": [
    "# Lightspeed introduction to `pandas`\n",
    "\n",
    "Pandas is the library providing tools to crunch data simply.\n",
    "\n",
    "It mainly provides a `DataFrame` object"
   ]
  },
  {
   "cell_type": "code",
   "execution_count": null,
   "metadata": {
    "ExecuteTime": {
     "end_time": "2019-11-27T21:12:09.956764Z",
     "start_time": "2019-11-27T21:12:09.933749Z"
    },
    "scrolled": true,
    "slideshow": {
     "slide_type": "subslide"
    }
   },
   "outputs": [],
   "source": [
    "import numpy as np\n",
    "import pandas as pd\n",
    "\n",
    "df = pd.DataFrame({ \n",
    "    'A' : 1.,\n",
    "    'B' : pd.Timestamp('20130102'),\n",
    "    'C' : pd.Series(1, dtype='float32'),\n",
    "    'C' : pd.Series(1, index=[0, 2], dtype='float32'),\n",
    "    'D' : pd.Series([1, 2, 3, 4], dtype='int32'),\n",
    "    'E' : pd.Categorical([\"test\", \"train\", \"test\", \"train\"]),\n",
    "    'F' : 'foo',\n",
    "    'G' : np.random.randn(4)\n",
    "})\n",
    "df"
   ]
  },
  {
   "cell_type": "markdown",
   "metadata": {
    "slideshow": {
     "slide_type": "subslide"
    }
   },
   "source": [
    "## Basic things"
   ]
  },
  {
   "cell_type": "code",
   "execution_count": null,
   "metadata": {
    "ExecuteTime": {
     "end_time": "2019-11-27T21:12:29.219324Z",
     "start_time": "2019-11-27T21:12:29.210344Z"
    },
    "slideshow": {
     "slide_type": "-"
    }
   },
   "outputs": [],
   "source": [
    "# Columns can be accessed by name (when it makes sense)\n",
    "df.B"
   ]
  },
  {
   "cell_type": "code",
   "execution_count": null,
   "metadata": {
    "ExecuteTime": {
     "end_time": "2019-11-27T21:12:29.648776Z",
     "start_time": "2019-11-27T21:12:29.641669Z"
    }
   },
   "outputs": [],
   "source": [
    "# Or like keys in a dict\n",
    "df['B']"
   ]
  },
  {
   "cell_type": "code",
   "execution_count": null,
   "metadata": {
    "ExecuteTime": {
     "end_time": "2019-11-27T21:12:30.362690Z",
     "start_time": "2019-11-27T21:12:30.355754Z"
    },
    "scrolled": true
   },
   "outputs": [],
   "source": [
    "type(df.B)"
   ]
  },
  {
   "cell_type": "code",
   "execution_count": null,
   "metadata": {
    "ExecuteTime": {
     "end_time": "2019-11-27T21:12:48.320333Z",
     "start_time": "2019-11-27T21:12:48.308101Z"
    },
    "slideshow": {
     "slide_type": "subslide"
    }
   },
   "outputs": [],
   "source": [
    "# To select a list of columns\n",
    "df[['A', 'C']]"
   ]
  },
  {
   "cell_type": "code",
   "execution_count": null,
   "metadata": {
    "ExecuteTime": {
     "end_time": "2019-11-27T21:12:48.845999Z",
     "start_time": "2019-11-27T21:12:48.836837Z"
    },
    "slideshow": {
     "slide_type": "subslide"
    }
   },
   "outputs": [],
   "source": [
    "df.dtypes"
   ]
  },
  {
   "cell_type": "code",
   "execution_count": null,
   "metadata": {
    "ExecuteTime": {
     "end_time": "2019-11-27T20:51:40.165273Z",
     "start_time": "2019-11-27T20:51:40.155485Z"
    }
   },
   "outputs": [],
   "source": [
    "df.info()"
   ]
  },
  {
   "cell_type": "markdown",
   "metadata": {
    "slideshow": {
     "slide_type": "subslide"
    }
   },
   "source": [
    "## Groupby and aggregations\n",
    "\n",
    "Basic syntax: group rows using the categories of a column and perform an aggregation on the groups"
   ]
  },
  {
   "cell_type": "code",
   "execution_count": null,
   "metadata": {
    "ExecuteTime": {
     "end_time": "2019-11-27T20:51:40.409548Z",
     "start_time": "2019-11-27T20:51:40.395598Z"
    }
   },
   "outputs": [],
   "source": [
    "df"
   ]
  },
  {
   "cell_type": "code",
   "execution_count": null,
   "metadata": {
    "ExecuteTime": {
     "end_time": "2019-11-27T20:51:41.928021Z",
     "start_time": "2019-11-27T20:51:41.907351Z"
    },
    "slideshow": {
     "slide_type": "-"
    }
   },
   "outputs": [],
   "source": [
    "# Compute the sum of D for each category in E\n",
    "df.groupby('E').sum().reset_index()"
   ]
  },
  {
   "cell_type": "markdown",
   "metadata": {
    "slideshow": {
     "slide_type": "slide"
    }
   },
   "source": [
    "# Lightspeed introduction to `seaborn`\n",
    "\n",
    "It's a graphics library built on top of `matplotlib` which\n",
    "- works pretty neatly with `pandas` `DataFrame`s\n",
    "- provides simpler ways to make nice visualization of datasets\n",
    "\n",
    "Let's illustrate this using the toy `tips` dataset that comes with `seaborn`"
   ]
  },
  {
   "cell_type": "code",
   "execution_count": null,
   "metadata": {
    "ExecuteTime": {
     "end_time": "2019-11-27T20:51:48.815943Z",
     "start_time": "2019-11-27T20:51:48.791568Z"
    },
    "slideshow": {
     "slide_type": "subslide"
    }
   },
   "outputs": [],
   "source": [
    "import seaborn as sns\n",
    "\n",
    "# Load one of the data sets that comes with seaborn\n",
    "tips = sns.load_dataset(\"tips\")\n",
    "\n",
    "# First 10 rows of the dataframe\n",
    "tips.head(n=10)"
   ]
  },
  {
   "cell_type": "code",
   "execution_count": null,
   "metadata": {
    "ExecuteTime": {
     "end_time": "2019-11-27T20:51:49.436731Z",
     "start_time": "2019-11-27T20:51:49.397523Z"
    },
    "scrolled": true,
    "slideshow": {
     "slide_type": "subslide"
    }
   },
   "outputs": [],
   "source": [
    "tips.describe(include='all')"
   ]
  },
  {
   "cell_type": "code",
   "execution_count": null,
   "metadata": {
    "ExecuteTime": {
     "end_time": "2019-11-27T20:51:50.132129Z",
     "start_time": "2019-11-27T20:51:50.124246Z"
    },
    "slideshow": {
     "slide_type": "subslide"
    }
   },
   "outputs": [],
   "source": [
    "tips['day'].unique()"
   ]
  },
  {
   "cell_type": "code",
   "execution_count": null,
   "metadata": {
    "ExecuteTime": {
     "end_time": "2019-11-27T20:51:50.792679Z",
     "start_time": "2019-11-27T20:51:50.784213Z"
    }
   },
   "outputs": [],
   "source": [
    "tips.dtypes"
   ]
  },
  {
   "cell_type": "code",
   "execution_count": null,
   "metadata": {
    "ExecuteTime": {
     "end_time": "2019-11-27T20:51:50.945880Z",
     "start_time": "2019-11-27T20:51:50.936226Z"
    }
   },
   "outputs": [],
   "source": [
    "tips.info()"
   ]
  },
  {
   "cell_type": "code",
   "execution_count": null,
   "metadata": {
    "ExecuteTime": {
     "end_time": "2019-11-27T20:51:51.705354Z",
     "start_time": "2019-11-27T20:51:51.120494Z"
    },
    "scrolled": false,
    "slideshow": {
     "slide_type": "subslide"
    }
   },
   "outputs": [],
   "source": [
    "sns.jointplot(\"total_bill\", \"tip\", data=tips)"
   ]
  },
  {
   "cell_type": "markdown",
   "metadata": {
    "slideshow": {
     "slide_type": "subslide"
    }
   },
   "source": [
    "## Exercice 1\n",
    "\n",
    "Compute the tip percentage of Dinner VS Lunch for each day of the week"
   ]
  },
  {
   "cell_type": "code",
   "execution_count": null,
   "metadata": {
    "ExecuteTime": {
     "end_time": "2019-11-27T20:51:57.448577Z",
     "start_time": "2019-11-27T20:51:57.426847Z"
    }
   },
   "outputs": [],
   "source": [
    "tips.head()"
   ]
  },
  {
   "cell_type": "markdown",
   "metadata": {
    "slideshow": {
     "slide_type": "subslide"
    }
   },
   "source": [
    "### Answer"
   ]
  },
  {
   "cell_type": "code",
   "execution_count": null,
   "metadata": {
    "scrolled": true,
    "slideshow": {
     "slide_type": "-"
    }
   },
   "outputs": [],
   "source": [
    "tips['tip_percentage'] = 100 * tips['tip'] / tips['total_bill']\n",
    "tips.groupby(['time', 'day']).mean()[['tip_percentage']]"
   ]
  },
  {
   "cell_type": "markdown",
   "metadata": {
    "slideshow": {
     "slide_type": "subslide"
    }
   },
   "source": [
    "## Exercice 2 \n",
    "\n",
    "Convert `size` as a categorical variable"
   ]
  },
  {
   "cell_type": "markdown",
   "metadata": {
    "ExecuteTime": {
     "end_time": "2019-11-27T21:00:22.944638Z",
     "start_time": "2019-11-27T21:00:22.940798Z"
    },
    "slideshow": {
     "slide_type": "fragment"
    }
   },
   "source": [
    "### Answer"
   ]
  },
  {
   "cell_type": "code",
   "execution_count": null,
   "metadata": {
    "ExecuteTime": {
     "end_time": "2019-11-27T21:14:39.512686Z",
     "start_time": "2019-11-27T21:14:39.494606Z"
    }
   },
   "outputs": [],
   "source": [
    "# We want to deal with size as a categorical variable\n",
    "tips['size'] = tips['size'].astype('category')\n",
    "tips.head(5)"
   ]
  },
  {
   "cell_type": "markdown",
   "metadata": {
    "slideshow": {
     "slide_type": "subslide"
    }
   },
   "source": [
    "## Exercice 3\n",
    "\n",
    "One-hot encode (or \"create dummies\" or \"binarize\") the categorical variables (this can be easily achieved with the `pandas.get_dummies` function)"
   ]
  },
  {
   "cell_type": "markdown",
   "metadata": {
    "ExecuteTime": {
     "end_time": "2019-11-27T21:03:46.544792Z",
     "start_time": "2019-11-27T21:03:46.538443Z"
    },
    "slideshow": {
     "slide_type": "subslide"
    }
   },
   "source": [
    "### Answer"
   ]
  },
  {
   "cell_type": "code",
   "execution_count": null,
   "metadata": {
    "ExecuteTime": {
     "end_time": "2019-11-27T21:03:54.761135Z",
     "start_time": "2019-11-27T21:03:54.726529Z"
    },
    "slideshow": {
     "slide_type": "-"
    }
   },
   "outputs": [],
   "source": [
    "data = pd.get_dummies(tips, prefix_sep='#')\n",
    "data.head(5)"
   ]
  },
  {
   "cell_type": "markdown",
   "metadata": {},
   "source": [
    "Only categorical columns have been \"binarized\". For instance, the `'day'` column is replaced by 4 columns named `'day#Thur'`, `'day#Fri'`, `'day#Sat'`, `'day#Sun'`, since `'day'` has 4 modalities (see next line)."
   ]
  },
  {
   "cell_type": "code",
   "execution_count": null,
   "metadata": {
    "ExecuteTime": {
     "end_time": "2019-11-27T21:03:58.009785Z",
     "start_time": "2019-11-27T21:03:58.001352Z"
    },
    "scrolled": true
   },
   "outputs": [],
   "source": [
    "tips['day'].unique()"
   ]
  },
  {
   "cell_type": "markdown",
   "metadata": {
    "slideshow": {
     "slide_type": "subslide"
    }
   },
   "source": [
    "## Remark\n",
    "\n",
    "Sums over dummies for `sex`, `smoker`, `day`, `time` and `size` are all equal to one.\n",
    "\n",
    "- Leads to colinearities, hence bad conditioning of the features matrix\n",
    "- Can be checked through a SVD (but don't compute the SVD of a large matrix!)"
   ]
  },
  {
   "cell_type": "code",
   "execution_count": null,
   "metadata": {
    "ExecuteTime": {
     "end_time": "2019-11-27T21:04:00.113579Z",
     "start_time": "2019-11-27T21:03:59.851349Z"
    },
    "scrolled": true
   },
   "outputs": [],
   "source": [
    "import matplotlib.pyplot as plt\n",
    "%matplotlib inline\n",
    "\n",
    "s = np.linalg.svd(data, compute_uv=False)\n",
    "plt.yscale('log')\n",
    "plt.title('Spectrum of the features matrix', fontsize=16)\n",
    "_ = plt.stem(s, use_line_collection=True)"
   ]
  },
  {
   "cell_type": "code",
   "execution_count": null,
   "metadata": {
    "ExecuteTime": {
     "end_time": "2019-11-27T21:04:02.140794Z",
     "start_time": "2019-11-27T21:04:02.110506Z"
    },
    "slideshow": {
     "slide_type": "subslide"
    }
   },
   "outputs": [],
   "source": [
    "data = pd.get_dummies(tips, prefix_sep='#', drop_first=True)\n",
    "data.head()"
   ]
  },
  {
   "cell_type": "markdown",
   "metadata": {},
   "source": [
    "Now, if a categorical feature has $K$ modalities, we use only $K-1$ dummies"
   ]
  },
  {
   "cell_type": "code",
   "execution_count": null,
   "metadata": {
    "ExecuteTime": {
     "end_time": "2019-11-27T21:04:04.037255Z",
     "start_time": "2019-11-27T21:04:04.019219Z"
    }
   },
   "outputs": [],
   "source": [
    "data.head()"
   ]
  },
  {
   "cell_type": "markdown",
   "metadata": {
    "ExecuteTime": {
     "end_time": "2019-11-27T21:02:22.405770Z",
     "start_time": "2019-11-27T21:02:22.399935Z"
    },
    "slideshow": {
     "slide_type": "subslide"
    }
   },
   "source": [
    "## Exercice 4\n",
    "\n",
    "Normalize the continuous features"
   ]
  },
  {
   "cell_type": "markdown",
   "metadata": {
    "slideshow": {
     "slide_type": "subslide"
    }
   },
   "source": [
    "### Answer"
   ]
  },
  {
   "cell_type": "code",
   "execution_count": null,
   "metadata": {
    "ExecuteTime": {
     "end_time": "2019-11-27T21:17:25.443651Z",
     "start_time": "2019-11-27T21:17:25.437775Z"
    }
   },
   "outputs": [],
   "source": [
    "def normalize_min_max(columns, data):\n",
    "    \"\"\"Min-max scale columns in data\n",
    "\n",
    "    Parameters\n",
    "    ----------\n",
    "    columns : `List[str]`\n",
    "        A list of columns to min-max scale\n",
    "\n",
    "    data : `pandas.DataFrame`\n",
    "        A dataframe containing the given columns\n",
    "\n",
    "    Returns\n",
    "    -------\n",
    "    output : `None`\n",
    "        data is modified inplace and not return by the fonction\n",
    "    \"\"\"\n",
    "    min_max = data[columns].agg(['min', 'max'])\n",
    "    for col in columns:\n",
    "        data[col] -= min_max.loc['min', col]\n",
    "        data[col] /= (min_max.loc['max', col] - min_max.loc['min', col])    "
   ]
  },
  {
   "cell_type": "code",
   "execution_count": null,
   "metadata": {
    "ExecuteTime": {
     "end_time": "2019-11-27T21:17:27.552392Z",
     "start_time": "2019-11-27T21:17:27.539210Z"
    },
    "slideshow": {
     "slide_type": "subslide"
    }
   },
   "outputs": [],
   "source": [
    "normalize_min_max(['total_bill', 'tip'], data)"
   ]
  },
  {
   "cell_type": "code",
   "execution_count": null,
   "metadata": {
    "ExecuteTime": {
     "end_time": "2019-11-27T21:17:28.134260Z",
     "start_time": "2019-11-27T21:17:28.111345Z"
    }
   },
   "outputs": [],
   "source": [
    "data[['total_bill', 'tip']].describe()"
   ]
  }
 ],
 "metadata": {
  "anaconda-cloud": {},
  "celltoolbar": "Slideshow",
  "kernelspec": {
   "display_name": "Python 3",
   "language": "python",
   "name": "python3"
  },
  "language_info": {
   "codemirror_mode": {
    "name": "ipython",
    "version": 3
   },
   "file_extension": ".py",
   "mimetype": "text/x-python",
   "name": "python",
   "nbconvert_exporter": "python",
   "pygments_lexer": "ipython3",
   "version": "3.6.9"
  },
  "toc": {
   "base_numbering": 1,
   "nav_menu": {},
   "number_sections": true,
   "sideBar": true,
   "skip_h1_title": false,
   "title_cell": "Table of Contents",
   "title_sidebar": "Contents",
   "toc_cell": false,
   "toc_position": {
    "height": "calc(100% - 180px)",
    "left": "10px",
    "top": "150px",
    "width": "274.54998779296875px"
   },
   "toc_section_display": true,
   "toc_window_display": false
  }
 },
 "nbformat": 4,
 "nbformat_minor": 1
}
