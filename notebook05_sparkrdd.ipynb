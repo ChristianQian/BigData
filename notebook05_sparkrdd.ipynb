{
 "cells": [
  {
   "cell_type": "code",
   "execution_count": null,
   "metadata": {
    "ExecuteTime": {
     "end_time": "2020-02-03T19:48:11.637056Z",
     "start_time": "2020-02-03T19:48:07.532310Z"
    },
    "scrolled": true
   },
   "outputs": [],
   "source": [
    "from pyspark import SparkConf, SparkContext\n",
    "\n",
    "conf = SparkConf().setAppName(\"Spark RDD Course\")\n",
    "sc = SparkContext(conf=conf)"
   ]
  },
  {
   "cell_type": "markdown",
   "metadata": {},
   "source": [
    "# Introduction to `Spark` RDD"
   ]
  },
  {
   "cell_type": "code",
   "execution_count": null,
   "metadata": {
    "ExecuteTime": {
     "end_time": "2020-02-03T19:48:13.574485Z",
     "start_time": "2020-02-03T19:48:13.282717Z"
    }
   },
   "outputs": [],
   "source": [
    "rdd = sc.parallelize([2, 3, 4])"
   ]
  },
  {
   "cell_type": "markdown",
   "metadata": {},
   "source": [
    "Note that `parallelize` takes an optional argument to choose the number of partitions"
   ]
  },
  {
   "cell_type": "code",
   "execution_count": null,
   "metadata": {
    "ExecuteTime": {
     "end_time": "2020-02-03T19:48:13.987267Z",
     "start_time": "2020-02-03T19:48:13.958109Z"
    }
   },
   "outputs": [],
   "source": [
    "rdd.getNumPartitions()"
   ]
  },
  {
   "cell_type": "code",
   "execution_count": null,
   "metadata": {
    "ExecuteTime": {
     "end_time": "2020-02-03T19:48:14.683138Z",
     "start_time": "2020-02-03T19:48:14.664811Z"
    }
   },
   "outputs": [],
   "source": [
    "rdd = sc.parallelize(range(1000), 10)\n",
    "rdd.getNumPartitions()"
   ]
  },
  {
   "cell_type": "markdown",
   "metadata": {},
   "source": [
    "## Transformations\n",
    "\n",
    "### `map`"
   ]
  },
  {
   "cell_type": "code",
   "execution_count": null,
   "metadata": {
    "ExecuteTime": {
     "end_time": "2020-02-03T16:37:28.963697Z",
     "start_time": "2020-02-03T16:37:28.950195Z"
    }
   },
   "outputs": [],
   "source": [
    "rdd = sc.parallelize([2, 3, 4])\n",
    "rdd = rdd.map(lambda x: list(range(1, x)))"
   ]
  },
  {
   "cell_type": "markdown",
   "metadata": {},
   "source": [
    "`map` is a transformation which is lazy evaluate (hence delayed until an action is met in the DAG)."
   ]
  },
  {
   "cell_type": "code",
   "execution_count": null,
   "metadata": {
    "ExecuteTime": {
     "end_time": "2020-02-03T16:37:31.086596Z",
     "start_time": "2020-02-03T16:37:30.138469Z"
    }
   },
   "outputs": [],
   "source": [
    "rdd.collect()"
   ]
  },
  {
   "cell_type": "markdown",
   "metadata": {},
   "source": [
    "### Exercice: `map` with a method\n",
    "\n",
    "**Warning.** This example is a bad practice !!! Don't do this at home"
   ]
  },
  {
   "cell_type": "code",
   "execution_count": null,
   "metadata": {
    "ExecuteTime": {
     "end_time": "2020-02-03T16:37:31.095798Z",
     "start_time": "2020-02-03T16:37:31.090346Z"
    }
   },
   "outputs": [],
   "source": [
    "class TelephoneDB(object):\n",
    "    \n",
    "    def __init__(self):\n",
    "        self.tel = {'stephane': 1234, 'yasser': 4567}\n",
    "    \n",
    "    def add_tel(self, name):\n",
    "        return name, self.tel[name]"
   ]
  },
  {
   "cell_type": "code",
   "execution_count": null,
   "metadata": {
    "ExecuteTime": {
     "end_time": "2020-02-03T16:37:31.215010Z",
     "start_time": "2020-02-03T16:37:31.098162Z"
    }
   },
   "outputs": [],
   "source": [
    "tel_db = TelephoneDB()\n",
    "names = ['stephane', 'yasser']\n",
    "rdd = sc.parallelize(names).map(tel_db.add_tel).collect()\n",
    "rdd"
   ]
  },
  {
   "cell_type": "markdown",
   "metadata": {
    "ExecuteTime": {
     "end_time": "2020-02-03T15:24:26.624561Z",
     "start_time": "2020-02-03T15:24:26.617929Z"
    }
   },
   "source": [
    "- Replace the `tel` dictionary by a `defaultdict` with default number `999` \n",
    "- Use it on a `rdd` containing names as above including an unknown one, and try it"
   ]
  },
  {
   "cell_type": "code",
   "execution_count": null,
   "metadata": {
    "ExecuteTime": {
     "end_time": "2020-02-03T16:21:04.083194Z",
     "start_time": "2020-02-03T16:21:04.075355Z"
    }
   },
   "outputs": [],
   "source": [
    "from collections import defaultdict\n",
    "\n",
    "class TelephoneDefaultDB(object):\n",
    "    \n",
    "    def __init__(self):\n",
    "        self.tel = defaultdict(lambda: 999, {'stephane': 1234, 'yasser': 4567})\n",
    "    \n",
    "    def add_tel(self, name):\n",
    "        return name, self.tel[name]\n",
    "    \n",
    "    def add_tel_rdd(self, rdd):\n",
    "        \n",
    "        return rdd.map(self.add_tel)"
   ]
  },
  {
   "cell_type": "code",
   "execution_count": null,
   "metadata": {
    "ExecuteTime": {
     "end_time": "2020-02-03T16:20:10.666059Z",
     "start_time": "2020-02-03T16:20:10.549487Z"
    },
    "scrolled": false
   },
   "outputs": [],
   "source": [
    "tel_db = TelephoneDefaultDB()\n",
    "names = ['stephane', 'yasser', 'yiyang']\n",
    "rdd = sc.parallelize(names).map(tel_db.add_tel).collect()\n",
    "rdd"
   ]
  },
  {
   "cell_type": "markdown",
   "metadata": {},
   "source": [
    "**Warning**. Once again, this is a bad idea to pass class methods to spark's `map`.\n",
    "Since `add_tel` needs `self`, the whole object is serialized so that `spark` can use it.\n",
    "This breaks if the `tel` is large, or if it is not serializable."
   ]
  },
  {
   "cell_type": "markdown",
   "metadata": {
    "ExecuteTime": {
     "end_time": "2020-02-03T15:03:46.700487Z",
     "start_time": "2020-02-03T15:03:46.697154Z"
    }
   },
   "source": [
    "### `flatMap`"
   ]
  },
  {
   "cell_type": "code",
   "execution_count": null,
   "metadata": {
    "ExecuteTime": {
     "end_time": "2020-02-03T15:38:34.622555Z",
     "start_time": "2020-02-03T15:38:34.503537Z"
    }
   },
   "outputs": [],
   "source": [
    "rdd = sc.parallelize([2, 3, 4, 5])\n",
    "rdd.flatMap(lambda x: range(1, x)).collect()"
   ]
  },
  {
   "cell_type": "markdown",
   "metadata": {},
   "source": [
    "### `filter`"
   ]
  },
  {
   "cell_type": "code",
   "execution_count": null,
   "metadata": {
    "ExecuteTime": {
     "end_time": "2020-02-03T15:39:12.868434Z",
     "start_time": "2020-02-03T15:39:12.773453Z"
    }
   },
   "outputs": [],
   "source": [
    "rdd = sc.parallelize(range(10))\n",
    "rdd.filter(lambda x: x % 2 == 0).collect()"
   ]
  },
  {
   "cell_type": "markdown",
   "metadata": {},
   "source": [
    "### `distinct`"
   ]
  },
  {
   "cell_type": "code",
   "execution_count": null,
   "metadata": {
    "ExecuteTime": {
     "end_time": "2020-02-03T15:41:36.802582Z",
     "start_time": "2020-02-03T15:41:36.577599Z"
    }
   },
   "outputs": [],
   "source": [
    "rdd = sc.parallelize([1, 1, 4, 2, 1, 3, 3])\n",
    "rdd.distinct().collect()"
   ]
  },
  {
   "cell_type": "markdown",
   "metadata": {},
   "source": [
    "### \"Pseudo-set\" operations"
   ]
  },
  {
   "cell_type": "code",
   "execution_count": null,
   "metadata": {
    "ExecuteTime": {
     "end_time": "2020-02-03T15:42:38.734091Z",
     "start_time": "2020-02-03T15:42:38.535679Z"
    }
   },
   "outputs": [],
   "source": [
    "rdd1 = sc.parallelize(range(5))\n",
    "rdd2 = sc.parallelize(range(3, 9))\n",
    "rdd3 = rdd1.union(rdd2)\n",
    "rdd3.collect()"
   ]
  },
  {
   "cell_type": "code",
   "execution_count": null,
   "metadata": {
    "ExecuteTime": {
     "end_time": "2020-02-03T15:42:59.671763Z",
     "start_time": "2020-02-03T15:42:59.276265Z"
    }
   },
   "outputs": [],
   "source": [
    "rdd3.distinct().collect()"
   ]
  },
  {
   "cell_type": "code",
   "execution_count": null,
   "metadata": {
    "ExecuteTime": {
     "end_time": "2020-02-03T15:43:39.161011Z",
     "start_time": "2020-02-03T15:43:39.086805Z"
    },
    "scrolled": true
   },
   "outputs": [],
   "source": [
    "rdd1 = sc.parallelize([1, 2])\n",
    "rdd2 = sc.parallelize([\"a\", \"b\"])\n",
    "rdd1.cartesian(rdd2).collect()"
   ]
  },
  {
   "cell_type": "markdown",
   "metadata": {},
   "source": [
    "## Actions\n",
    "\n",
    "Well, `collect` is obviously an action..."
   ]
  },
  {
   "cell_type": "markdown",
   "metadata": {},
   "source": [
    "### `count`, `countByValue`"
   ]
  },
  {
   "cell_type": "code",
   "execution_count": null,
   "metadata": {
    "ExecuteTime": {
     "end_time": "2020-02-03T15:52:07.003134Z",
     "start_time": "2020-02-03T15:52:06.905516Z"
    }
   },
   "outputs": [],
   "source": [
    "rdd = sc.parallelize([1, 3, 1, 2, 2, 2])\n",
    "rdd.count()"
   ]
  },
  {
   "cell_type": "code",
   "execution_count": null,
   "metadata": {
    "ExecuteTime": {
     "end_time": "2020-02-03T15:52:07.159264Z",
     "start_time": "2020-02-03T15:52:07.069395Z"
    }
   },
   "outputs": [],
   "source": [
    "rdd.countByValue()"
   ]
  },
  {
   "cell_type": "markdown",
   "metadata": {},
   "source": [
    "### `take`, `takeOrdered`"
   ]
  },
  {
   "cell_type": "code",
   "execution_count": null,
   "metadata": {
    "ExecuteTime": {
     "end_time": "2020-02-03T15:52:07.478266Z",
     "start_time": "2020-02-03T15:52:07.469415Z"
    }
   },
   "outputs": [],
   "source": [
    "rdd = sc.parallelize([(3, 'a'), (1, 'b'), (2, 'd')])"
   ]
  },
  {
   "cell_type": "code",
   "execution_count": null,
   "metadata": {
    "ExecuteTime": {
     "end_time": "2020-02-03T15:52:07.948238Z",
     "start_time": "2020-02-03T15:52:07.849431Z"
    }
   },
   "outputs": [],
   "source": [
    "rdd.takeOrdered(2)"
   ]
  },
  {
   "cell_type": "code",
   "execution_count": null,
   "metadata": {
    "ExecuteTime": {
     "end_time": "2020-02-03T15:52:08.104230Z",
     "start_time": "2020-02-03T15:52:08.012495Z"
    }
   },
   "outputs": [],
   "source": [
    "rdd.takeOrdered(2, key=lambda x: x[1])"
   ]
  },
  {
   "cell_type": "markdown",
   "metadata": {},
   "source": [
    "### `reduce`, `fold`"
   ]
  },
  {
   "cell_type": "code",
   "execution_count": null,
   "metadata": {
    "ExecuteTime": {
     "end_time": "2020-02-03T16:01:12.590868Z",
     "start_time": "2020-02-03T16:01:12.488031Z"
    }
   },
   "outputs": [],
   "source": [
    "rdd = sc.range(1, 4)\n",
    "rdd.reduce(lambda a, b: a + b)"
   ]
  },
  {
   "cell_type": "code",
   "execution_count": null,
   "metadata": {
    "ExecuteTime": {
     "end_time": "2020-02-03T15:52:09.412263Z",
     "start_time": "2020-02-03T15:52:09.316556Z"
    }
   },
   "outputs": [],
   "source": [
    "rdd.fold(0, lambda a, b: a + b)"
   ]
  },
  {
   "cell_type": "code",
   "execution_count": null,
   "metadata": {
    "ExecuteTime": {
     "end_time": "2020-02-03T16:01:20.117163Z",
     "start_time": "2020-02-03T16:01:20.034560Z"
    }
   },
   "outputs": [],
   "source": [
    "rdd = sc.parallelize([1, 2, 4], 2)\n",
    "rdd.fold(2.5, lambda a, b: a + b)"
   ]
  },
  {
   "cell_type": "code",
   "execution_count": null,
   "metadata": {
    "ExecuteTime": {
     "end_time": "2020-02-03T16:01:34.112890Z",
     "start_time": "2020-02-03T16:01:34.013503Z"
    }
   },
   "outputs": [],
   "source": [
    "rdd = sc.parallelize([1, 2, 3], 5)\n",
    "rdd.fold(2, lambda a, b: a + b)"
   ]
  },
  {
   "cell_type": "code",
   "execution_count": null,
   "metadata": {
    "ExecuteTime": {
     "end_time": "2020-02-03T16:01:34.671467Z",
     "start_time": "2020-02-03T16:01:34.663423Z"
    }
   },
   "outputs": [],
   "source": [
    "rdd.getNumPartitions()"
   ]
  },
  {
   "cell_type": "markdown",
   "metadata": {},
   "source": [
    "### `aggregate`"
   ]
  },
  {
   "cell_type": "code",
   "execution_count": null,
   "metadata": {
    "ExecuteTime": {
     "end_time": "2020-02-03T16:01:36.057962Z",
     "start_time": "2020-02-03T16:01:35.962239Z"
    }
   },
   "outputs": [],
   "source": [
    "seqOp = lambda x, y: (x[0] + y, x[1] + 1)\n",
    "combOp = lambda x, y: (x[0] + y[0], x[1] + y[1])\n",
    "sc.parallelize([1, 2, 3, 4]).aggregate((0, 0), seqOp, combOp)"
   ]
  },
  {
   "cell_type": "markdown",
   "metadata": {},
   "source": [
    "### Exercice: sum of powers with `aggregate`\n",
    "\n",
    "- Using `aggregate`, compute the sum, the sum of squares $x^2$ and the sum of $x^3$ for \n",
    "$x \\in \\{1, \\ldots, 10 \\}$.\n",
    "- Check your computations using `numpy`"
   ]
  },
  {
   "cell_type": "code",
   "execution_count": null,
   "metadata": {
    "ExecuteTime": {
     "end_time": "2020-02-03T16:01:38.683204Z",
     "start_time": "2020-02-03T16:01:38.678551Z"
    }
   },
   "outputs": [],
   "source": [
    "seqOp = lambda x, y: (x[0] + y, x[1] + y ** 2, x[2] + y ** 3)"
   ]
  },
  {
   "cell_type": "code",
   "execution_count": null,
   "metadata": {
    "ExecuteTime": {
     "end_time": "2020-02-03T16:01:39.792182Z",
     "start_time": "2020-02-03T16:01:39.787138Z"
    }
   },
   "outputs": [],
   "source": [
    "combOp = lambda x, y: (x[0] + y[0], x[1] + y[1], x[2] + y[2])"
   ]
  },
  {
   "cell_type": "code",
   "execution_count": null,
   "metadata": {
    "ExecuteTime": {
     "end_time": "2020-02-03T16:01:39.991010Z",
     "start_time": "2020-02-03T16:01:39.903252Z"
    }
   },
   "outputs": [],
   "source": [
    "sc.range(1, 11).aggregate((0, 0, 0), seqOp, combOp)"
   ]
  },
  {
   "cell_type": "code",
   "execution_count": null,
   "metadata": {
    "ExecuteTime": {
     "end_time": "2020-02-03T16:01:41.366506Z",
     "start_time": "2020-02-03T16:01:41.358534Z"
    }
   },
   "outputs": [],
   "source": [
    "import numpy as np\n",
    "\n",
    "x = np.arange(1, 11)\n",
    "x"
   ]
  },
  {
   "cell_type": "code",
   "execution_count": null,
   "metadata": {
    "ExecuteTime": {
     "end_time": "2020-02-03T16:01:43.031319Z",
     "start_time": "2020-02-03T16:01:43.023739Z"
    },
    "scrolled": true
   },
   "outputs": [],
   "source": [
    "x.sum(), (x**2).sum(), (x**3).sum()"
   ]
  },
  {
   "cell_type": "markdown",
   "metadata": {},
   "source": [
    "# `PairRDD`"
   ]
  },
  {
   "cell_type": "code",
   "execution_count": null,
   "metadata": {
    "ExecuteTime": {
     "end_time": "2020-02-03T17:26:01.213787Z",
     "start_time": "2020-02-03T17:26:01.106252Z"
    },
    "scrolled": false
   },
   "outputs": [],
   "source": [
    "rdd = sc.parallelize([[1, \"a\", 7], [2, \"b\", 13], [2, \"c\", 17]])\n",
    "rdd = rdd.map(lambda x: (x[0], x[1:]))\n",
    "rdd.collect()"
   ]
  },
  {
   "cell_type": "markdown",
   "metadata": {
    "ExecuteTime": {
     "end_time": "2020-02-03T16:55:49.613692Z",
     "start_time": "2020-02-03T16:55:49.608167Z"
    }
   },
   "source": [
    "## Transformations\n",
    "\n",
    "### `keys`, `values`"
   ]
  },
  {
   "cell_type": "code",
   "execution_count": null,
   "metadata": {
    "ExecuteTime": {
     "end_time": "2020-02-03T19:48:21.903699Z",
     "start_time": "2020-02-03T19:48:20.689185Z"
    },
    "scrolled": true
   },
   "outputs": [],
   "source": [
    "rdd.keys().collect()"
   ]
  },
  {
   "cell_type": "code",
   "execution_count": null,
   "metadata": {
    "ExecuteTime": {
     "end_time": "2020-02-03T17:28:25.736736Z",
     "start_time": "2020-02-03T17:28:25.645597Z"
    },
    "scrolled": true
   },
   "outputs": [],
   "source": [
    "rdd.values().collect()"
   ]
  },
  {
   "cell_type": "markdown",
   "metadata": {
    "ExecuteTime": {
     "end_time": "2020-02-03T17:19:46.849104Z",
     "start_time": "2020-02-03T17:19:46.843413Z"
    }
   },
   "source": [
    "**Warning**. An element mut be tuples with two elements (the key and the value)"
   ]
  },
  {
   "cell_type": "code",
   "execution_count": null,
   "metadata": {
    "ExecuteTime": {
     "end_time": "2020-02-03T17:28:26.138891Z",
     "start_time": "2020-02-03T17:28:26.044697Z"
    }
   },
   "outputs": [],
   "source": [
    "rdd = sc.parallelize([[1, \"a\", 7], [2, \"b\", 13], [2, \"c\", 17]])\n",
    "rdd.keys().collect()"
   ]
  },
  {
   "cell_type": "code",
   "execution_count": null,
   "metadata": {
    "ExecuteTime": {
     "end_time": "2020-02-03T17:28:26.360307Z",
     "start_time": "2020-02-03T17:28:26.268049Z"
    }
   },
   "outputs": [],
   "source": [
    "rdd.values().collect()"
   ]
  },
  {
   "cell_type": "markdown",
   "metadata": {},
   "source": [
    "The values are **not** what we expected wrong... so we **must** do"
   ]
  },
  {
   "cell_type": "code",
   "execution_count": null,
   "metadata": {
    "ExecuteTime": {
     "end_time": "2020-02-03T17:28:39.522385Z",
     "start_time": "2020-02-03T17:28:39.429983Z"
    }
   },
   "outputs": [],
   "source": [
    "rdd = sc.parallelize([[1, \"a\", 7], [2, \"b\", 13], [2, \"c\", 17]]).map(lambda x: (x[0], x[1:]))\n",
    "rdd.keys().collect()"
   ]
  },
  {
   "cell_type": "code",
   "execution_count": null,
   "metadata": {
    "ExecuteTime": {
     "end_time": "2020-02-03T17:28:39.708497Z",
     "start_time": "2020-02-03T17:28:39.618228Z"
    }
   },
   "outputs": [],
   "source": [
    "rdd.values().collect()"
   ]
  },
  {
   "cell_type": "code",
   "execution_count": null,
   "metadata": {
    "ExecuteTime": {
     "end_time": "2020-02-03T17:28:39.881557Z",
     "start_time": "2020-02-03T17:28:39.789150Z"
    },
    "scrolled": true
   },
   "outputs": [],
   "source": [
    "rdd.values().collect()"
   ]
  },
  {
   "cell_type": "markdown",
   "metadata": {},
   "source": [
    "Now the values are correct."
   ]
  },
  {
   "cell_type": "markdown",
   "metadata": {},
   "source": [
    "### `mapValues`, `flatMapValues`"
   ]
  },
  {
   "cell_type": "code",
   "execution_count": null,
   "metadata": {
    "ExecuteTime": {
     "end_time": "2020-02-03T17:30:43.291113Z",
     "start_time": "2020-02-03T17:30:43.197850Z"
    }
   },
   "outputs": [],
   "source": [
    "rdd = sc.parallelize([(\"a\", \"x y z\"), (\"b\", \"p r\")])\n",
    "rdd.mapValues(lambda v: v.split(' ')).collect()"
   ]
  },
  {
   "cell_type": "code",
   "execution_count": null,
   "metadata": {
    "ExecuteTime": {
     "end_time": "2020-02-03T17:29:19.958821Z",
     "start_time": "2020-02-03T17:29:19.874139Z"
    }
   },
   "outputs": [],
   "source": []
  },
  {
   "cell_type": "code",
   "execution_count": null,
   "metadata": {
    "ExecuteTime": {
     "end_time": "2020-02-03T17:30:32.254076Z",
     "start_time": "2020-02-03T17:30:32.163116Z"
    },
    "scrolled": true
   },
   "outputs": [],
   "source": [
    "rdd.flatMapValues(lambda v: v.split(' ')).collect()"
   ]
  },
  {
   "cell_type": "markdown",
   "metadata": {},
   "source": [
    "### `groupByKey`"
   ]
  },
  {
   "cell_type": "code",
   "execution_count": null,
   "metadata": {
    "ExecuteTime": {
     "end_time": "2020-02-03T19:48:02.353277Z",
     "start_time": "2020-02-03T19:48:02.308475Z"
    }
   },
   "outputs": [],
   "source": [
    "rdd = sc.parallelize([(\"a\", 1), (\"b\", 1), (\"a\", 1), (\"b\", 3), (\"c\", 42)])\n",
    "rdd.groupByKey().mapValues(list).collect()"
   ]
  },
  {
   "cell_type": "markdown",
   "metadata": {},
   "source": [
    "### `reduceByKey`"
   ]
  },
  {
   "cell_type": "code",
   "execution_count": null,
   "metadata": {
    "ExecuteTime": {
     "end_time": "2020-02-03T19:48:27.276778Z",
     "start_time": "2020-02-03T19:48:26.503021Z"
    }
   },
   "outputs": [],
   "source": [
    "rdd = sc.parallelize([(\"a\", 1), (\"b\", 1), (\"a\", 1)])\n",
    "rdd.reduceByKey(lambda a, b: a + b).collect()"
   ]
  },
  {
   "cell_type": "markdown",
   "metadata": {},
   "source": [
    "### `combineByKey`"
   ]
  },
  {
   "cell_type": "code",
   "execution_count": null,
   "metadata": {
    "ExecuteTime": {
     "end_time": "2020-02-03T19:56:53.387783Z",
     "start_time": "2020-02-03T19:56:53.118785Z"
    }
   },
   "outputs": [],
   "source": [
    "rdd = sc.parallelize([('a', 1), ('b', 2), ('a', 13)])\n",
    "\n",
    "def add(a, b): \n",
    "    return a + str(b)\n",
    "\n",
    "rdd.combineByKey(str, add, add).collect()"
   ]
  },
  {
   "cell_type": "markdown",
   "metadata": {},
   "source": [
    "### `join`, `rightOuterJoin`, `leftOuterJoin`"
   ]
  },
  {
   "cell_type": "code",
   "execution_count": null,
   "metadata": {
    "ExecuteTime": {
     "end_time": "2020-02-03T20:26:25.126504Z",
     "start_time": "2020-02-03T20:26:25.117739Z"
    }
   },
   "outputs": [],
   "source": [
    "employees = sc.parallelize([\n",
    "    (31, \"Rafferty\"),\n",
    "    (33, \"Jones\"),\n",
    "    (33, \"Heisenberg\"),\n",
    "    (34, \"Robinson\"),\n",
    "    (34, \"Smith\"),\n",
    "    (None, \"Williams\")\n",
    "])"
   ]
  },
  {
   "cell_type": "code",
   "execution_count": null,
   "metadata": {
    "ExecuteTime": {
     "end_time": "2020-02-03T20:26:25.852635Z",
     "start_time": "2020-02-03T20:26:25.842619Z"
    }
   },
   "outputs": [],
   "source": [
    "departments = sc.parallelize([\n",
    "    (31, \"Sales\"),\n",
    "    (33, \"Engineering\"),\n",
    "    (34, \"Clerical\"),\n",
    "    (35, \"Marketing\")\n",
    "])"
   ]
  },
  {
   "cell_type": "code",
   "execution_count": null,
   "metadata": {
    "ExecuteTime": {
     "end_time": "2020-02-03T20:27:38.080485Z",
     "start_time": "2020-02-03T20:27:37.150179Z"
    },
    "scrolled": true
   },
   "outputs": [],
   "source": [
    "employees.join(departments).sortByKey().collect()"
   ]
  },
  {
   "cell_type": "code",
   "execution_count": null,
   "metadata": {
    "ExecuteTime": {
     "end_time": "2020-02-03T20:28:12.095910Z",
     "start_time": "2020-02-03T20:28:11.191942Z"
    },
    "scrolled": false
   },
   "outputs": [],
   "source": [
    "employees.rightOuterJoin(departments).sortByKey().collect()"
   ]
  },
  {
   "cell_type": "code",
   "execution_count": null,
   "metadata": {
    "ExecuteTime": {
     "end_time": "2020-02-03T20:28:15.973245Z",
     "start_time": "2020-02-03T20:28:15.591408Z"
    }
   },
   "outputs": [],
   "source": [
    "employees.leftOuterJoin(departments).collect()"
   ]
  },
  {
   "cell_type": "markdown",
   "metadata": {},
   "source": [
    "## Actions"
   ]
  },
  {
   "cell_type": "code",
   "execution_count": null,
   "metadata": {
    "ExecuteTime": {
     "end_time": "2020-02-03T20:30:47.349198Z",
     "start_time": "2020-02-03T20:30:47.217125Z"
    }
   },
   "outputs": [],
   "source": [
    "employees.countByKey()"
   ]
  },
  {
   "cell_type": "code",
   "execution_count": null,
   "metadata": {
    "ExecuteTime": {
     "end_time": "2020-02-03T20:32:23.485187Z",
     "start_time": "2020-02-03T20:32:23.359492Z"
    },
    "scrolled": true
   },
   "outputs": [],
   "source": [
    "employees.lookup(33)"
   ]
  },
  {
   "cell_type": "code",
   "execution_count": null,
   "metadata": {
    "ExecuteTime": {
     "end_time": "2020-02-03T20:32:32.677403Z",
     "start_time": "2020-02-03T20:32:32.574300Z"
    },
    "scrolled": false
   },
   "outputs": [],
   "source": [
    "employees.lookup(None)"
   ]
  },
  {
   "cell_type": "code",
   "execution_count": null,
   "metadata": {
    "ExecuteTime": {
     "end_time": "2020-02-03T20:32:51.117308Z",
     "start_time": "2020-02-03T20:32:51.094134Z"
    }
   },
   "outputs": [],
   "source": [
    "employees.collectAsMap()"
   ]
  },
  {
   "cell_type": "code",
   "execution_count": null,
   "metadata": {},
   "outputs": [],
   "source": []
  }
 ],
 "metadata": {
  "kernelspec": {
   "display_name": "Python 3",
   "language": "python",
   "name": "python3"
  },
  "language_info": {
   "codemirror_mode": {
    "name": "ipython",
    "version": 3
   },
   "file_extension": ".py",
   "mimetype": "text/x-python",
   "name": "python",
   "nbconvert_exporter": "python",
   "pygments_lexer": "ipython3",
   "version": "3.7.5"
  },
  "toc": {
   "base_numbering": 1,
   "nav_menu": {},
   "number_sections": true,
   "sideBar": true,
   "skip_h1_title": false,
   "title_cell": "Table of Contents",
   "title_sidebar": "Contents",
   "toc_cell": false,
   "toc_position": {
    "height": "calc(100% - 180px)",
    "left": "10px",
    "top": "150px",
    "width": "374.6000061035156px"
   },
   "toc_section_display": true,
   "toc_window_display": true
  }
 },
 "nbformat": 4,
 "nbformat_minor": 2
}
